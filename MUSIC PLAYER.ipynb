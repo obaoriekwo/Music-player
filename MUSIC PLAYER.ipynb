{
 "cells": [
  {
   "cell_type": "code",
   "execution_count": null,
   "metadata": {},
   "outputs": [],
   "source": [
    "import pygame\n",
    "import tkinter as tkr\n",
    "from tkinter .filedialog import askdirectory\n",
    "import os\n",
    "\n",
    "musicplayer = tkr()\n",
    "musicplayer.title(\"Music Player\")\n",
    "musicplayer.geometry(\"450*350\")\n",
    "\n",
    "directory = askdirectory()\n",
    "os.chdir(directory)\n",
    "songlist = os.listdir()\n",
    "playlist = tkr.Listox(musicplayer, font = \"Helvetica 12 bold\", bg=\"blue\", selectmode= tkr.SINGLE)\n",
    "\n",
    "for item in songlist:\n",
    "    pos = 0\n",
    "    playlist.insert(pos, item)\n",
    "    pos = pos + 1\n",
    "\n",
    "pygame.init()\n",
    "pygame.mixer.init()\n",
    "\n",
    "def play():\n",
    "    pygame.mixer.music.load(playlist.get(tkr.ACTIVE))\n",
    "    var.set(playlist.get(tkr.ACTIVE))\n",
    "    pygame.mixer.music.play()\n",
    "    \n",
    "def ExitMusicPlayer():\n",
    "    pygame.mixer.music.stop()\n",
    "    \n",
    "def pause():\n",
    "    pygame.mixer.music.pause()\n",
    "\n",
    "def unpause():\n",
    "    pygame.mixer.music.unpause()\n",
    "\n",
    "ButtonA = tkr.Button(musicplayer,width=5,height=3, font=\"Helvetica 12 bold\", text=\"PLAY\",coommand=play,bg=\"red\",fg=\"white\")\n",
    "ButtonB = tkr.Button(musicplayer,width=5,height=3, font=\"Helvetica 12 bold\", text=\"STOP\",coommand=ExitMusicplayer,bg=\"purple\",fg=\"white\")\n",
    "ButtonC = tkr.Button(musicplayer,width=5,height=3, font=\"Helvetica 12 bold\", text=\"PAUSE\",coommand=pause,bg=\"green\",fg=\"white\")\n",
    "ButtonD = tkr.Button(musicplayer,width=5,height=3, font=\"Helvetica 12 bold\", text=\"UNPAUSE\",coommand=unpause,bg=\"blue\",fg=\"white\")\n",
    "\n",
    "var = tkr.stringVar()\n",
    "songtitle = tkr.Label(musicplayer, font=\"Helvetica 12 bold\",textvariable=var)\n",
    "\n",
    "songtitle.pack()\n",
    "ButtonA.pack(fill=\"x\")\n",
    "ButtonB.pack(fill=\"x\")\n",
    "ButtonC.pack(fill=\"x\")\n",
    "ButtonD.pack(fill=\"x\")\n",
    "playlist.pack(fill=\"both\",expand=\"yes\")\n",
    "\n",
    "musicplayer.mainloop()\n",
    "\n",
    "\n",
    "\n"
   ]
  }
 ],
 "metadata": {
  "kernelspec": {
   "display_name": "Python 3",
   "language": "python",
   "name": "python3"
  },
  "language_info": {
   "codemirror_mode": {
    "name": "ipython",
    "version": 3
   },
   "file_extension": ".py",
   "mimetype": "text/x-python",
   "name": "python",
   "nbconvert_exporter": "python",
   "pygments_lexer": "ipython3",
   "version": "3.7.4"
  }
 },
 "nbformat": 4,
 "nbformat_minor": 2
}
